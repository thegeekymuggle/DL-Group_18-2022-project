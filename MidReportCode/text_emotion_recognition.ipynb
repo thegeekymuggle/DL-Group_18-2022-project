{
  "nbformat": 4,
  "nbformat_minor": 0,
  "metadata": {
    "colab": {
      "name": "text_emotion_recognition.ipynb",
      "provenance": [],
      "collapsed_sections": [],
      "toc_visible": true
    },
    "kernelspec": {
      "name": "python3",
      "display_name": "Python 3"
    },
    "accelerator": "GPU"
  },
  "cells": [
    {
      "cell_type": "code",
      "source": [
        "from google.colab import drive\n",
        "drive.mount(\"/content/drive/\", force_remount=True)\n"
      ],
      "metadata": {
        "colab": {
          "base_uri": "https://localhost:8080/"
        },
        "id": "lcnXh2cV7r8s",
        "outputId": "fe0577e2-cd65-4a8b-81a2-58d04169481c"
      },
      "execution_count": null,
      "outputs": [
        {
          "output_type": "stream",
          "name": "stdout",
          "text": [
            "Mounted at /content/drive/\n"
          ]
        }
      ]
    },
    {
      "cell_type": "code",
      "metadata": {
        "id": "wr6AWCQ2m8TH",
        "colab": {
          "base_uri": "https://localhost:8080/"
        },
        "outputId": "9bb9f751-491e-4d1c-9c01-111e2a6eba94"
      },
      "source": [
        "% cd drive/MyDrive/MELD/"
      ],
      "execution_count": null,
      "outputs": [
        {
          "output_type": "stream",
          "name": "stdout",
          "text": [
            "/content/drive/MyDrive/MELD\n"
          ]
        }
      ]
    },
    {
      "cell_type": "markdown",
      "metadata": {
        "id": "9avfQC3oyoRj"
      },
      "source": [
        "## LOAD DEPENDENCIES"
      ]
    },
    {
      "cell_type": "code",
      "metadata": {
        "id": "WR8xssmrqE1c",
        "colab": {
          "base_uri": "https://localhost:8080/"
        },
        "outputId": "3bd78fbd-9a06-4009-804d-5612b4f8e281"
      },
      "source": [
        "import nltk\n",
        "stopwords = nltk.download('stopwords')\n",
        "import pandas as pd\n",
        "import seaborn as sns\n",
        "import numpy as np\n",
        "from tqdm import tqdm\n",
        "from nltk import word_tokenize\n",
        "from nltk.corpus import stopwords\n",
        "stop_words = stopwords.words('english')\n",
        "from sklearn import preprocessing"
      ],
      "execution_count": null,
      "outputs": [
        {
          "output_type": "stream",
          "name": "stdout",
          "text": [
            "[nltk_data] Downloading package stopwords to /root/nltk_data...\n",
            "[nltk_data]   Package stopwords is already up-to-date!\n"
          ]
        }
      ]
    },
    {
      "cell_type": "markdown",
      "metadata": {
        "id": "xkNDkMK9yq01"
      },
      "source": [
        "## LOAD DATA"
      ]
    },
    {
      "cell_type": "code",
      "metadata": {
        "id": "fhE5XmMQqJfR"
      },
      "source": [
        "train_set = pd.read_csv('train_sent_emo.csv')\n",
        "valid_set = pd.read_csv('dev_sent_emo.csv')\n",
        "test_set = pd.read_csv('test_sent_emo.csv')"
      ],
      "execution_count": null,
      "outputs": []
    },
    {
      "cell_type": "markdown",
      "metadata": {
        "id": "KrSWw7k1yuUr"
      },
      "source": [
        "## EXPLORATORY DATA ANALYSIS"
      ]
    },
    {
      "cell_type": "code",
      "metadata": {
        "id": "pPhcHd2JqYVX",
        "colab": {
          "base_uri": "https://localhost:8080/"
        },
        "outputId": "34f06fd0-00c3-4df6-c144-1078d612e2c0"
      },
      "source": [
        "train_set.shape, valid_set.shape , test_set.shape"
      ],
      "execution_count": null,
      "outputs": [
        {
          "output_type": "execute_result",
          "data": {
            "text/plain": [
              "((9989, 11), (1109, 11), (2610, 11))"
            ]
          },
          "metadata": {},
          "execution_count": 6
        }
      ]
    },
    {
      "cell_type": "code",
      "metadata": {
        "id": "eSkliokBquNZ",
        "colab": {
          "base_uri": "https://localhost:8080/"
        },
        "outputId": "792d536a-03f2-46a3-916c-012d25c3f83f"
      },
      "source": [
        "train_set.columns"
      ],
      "execution_count": null,
      "outputs": [
        {
          "output_type": "execute_result",
          "data": {
            "text/plain": [
              "Index(['Sr No.', 'Utterance', 'Speaker', 'Emotion', 'Sentiment', 'Dialogue_ID',\n",
              "       'Utterance_ID', 'Season', 'Episode', 'StartTime', 'EndTime'],\n",
              "      dtype='object')"
            ]
          },
          "metadata": {},
          "execution_count": 7
        }
      ]
    },
    {
      "cell_type": "code",
      "metadata": {
        "id": "Ky0FRDvhroJi",
        "colab": {
          "base_uri": "https://localhost:8080/"
        },
        "outputId": "6f4a5304-5864-49ab-83a5-8d33924ecbb6"
      },
      "source": [
        "valid_set.columns#cross validation"
      ],
      "execution_count": null,
      "outputs": [
        {
          "output_type": "execute_result",
          "data": {
            "text/plain": [
              "Index(['Sr No.', 'Utterance', 'Speaker', 'Emotion', 'Sentiment', 'Dialogue_ID',\n",
              "       'Utterance_ID', 'Season', 'Episode', 'StartTime', 'EndTime'],\n",
              "      dtype='object')"
            ]
          },
          "metadata": {},
          "execution_count": 8
        }
      ]
    },
    {
      "cell_type": "code",
      "metadata": {
        "id": "_MSey04Lrpty",
        "colab": {
          "base_uri": "https://localhost:8080/"
        },
        "outputId": "5d71c91a-db6b-44f8-bbac-80f0c2560bcd"
      },
      "source": [
        "test_set.columns"
      ],
      "execution_count": null,
      "outputs": [
        {
          "output_type": "execute_result",
          "data": {
            "text/plain": [
              "Index(['Sr No.', 'Utterance', 'Speaker', 'Emotion', 'Sentiment', 'Dialogue_ID',\n",
              "       'Utterance_ID', 'Season', 'Episode', 'StartTime', 'EndTime'],\n",
              "      dtype='object')"
            ]
          },
          "metadata": {},
          "execution_count": 9
        }
      ]
    },
    {
      "cell_type": "code",
      "metadata": {
        "id": "ZEEkh1bprrWx",
        "colab": {
          "base_uri": "https://localhost:8080/",
          "height": 513
        },
        "outputId": "9bcba683-4963-4655-e898-580b472edc0c"
      },
      "source": [
        "train_set.head()"
      ],
      "execution_count": null,
      "outputs": [
        {
          "output_type": "execute_result",
          "data": {
            "text/plain": [
              "   Sr No.                                          Utterance          Speaker  \\\n",
              "0       1  also I was the point person on my companys tr...         Chandler   \n",
              "1       2                   You mustve had your hands full.  The Interviewer   \n",
              "2       3                            That I did. That I did.         Chandler   \n",
              "3       4      So lets talk a little bit about your duties.  The Interviewer   \n",
              "4       5                             My duties?  All right.         Chandler   \n",
              "\n",
              "    Emotion Sentiment  Dialogue_ID  Utterance_ID  Season  Episode  \\\n",
              "0   neutral   neutral            0             0       8       21   \n",
              "1   neutral   neutral            0             1       8       21   \n",
              "2   neutral   neutral            0             2       8       21   \n",
              "3   neutral   neutral            0             3       8       21   \n",
              "4  surprise  positive            0             4       8       21   \n",
              "\n",
              "      StartTime       EndTime  \n",
              "0  00:16:16,059  00:16:21,731  \n",
              "1  00:16:21,940  00:16:23,442  \n",
              "2  00:16:23,442  00:16:26,389  \n",
              "3  00:16:26,820  00:16:29,572  \n",
              "4  00:16:34,452  00:16:40,917  "
            ],
            "text/html": [
              "\n",
              "  <div id=\"df-b6f57448-7a8e-44d9-88f1-8baeda27ca11\">\n",
              "    <div class=\"colab-df-container\">\n",
              "      <div>\n",
              "<style scoped>\n",
              "    .dataframe tbody tr th:only-of-type {\n",
              "        vertical-align: middle;\n",
              "    }\n",
              "\n",
              "    .dataframe tbody tr th {\n",
              "        vertical-align: top;\n",
              "    }\n",
              "\n",
              "    .dataframe thead th {\n",
              "        text-align: right;\n",
              "    }\n",
              "</style>\n",
              "<table border=\"1\" class=\"dataframe\">\n",
              "  <thead>\n",
              "    <tr style=\"text-align: right;\">\n",
              "      <th></th>\n",
              "      <th>Sr No.</th>\n",
              "      <th>Utterance</th>\n",
              "      <th>Speaker</th>\n",
              "      <th>Emotion</th>\n",
              "      <th>Sentiment</th>\n",
              "      <th>Dialogue_ID</th>\n",
              "      <th>Utterance_ID</th>\n",
              "      <th>Season</th>\n",
              "      <th>Episode</th>\n",
              "      <th>StartTime</th>\n",
              "      <th>EndTime</th>\n",
              "    </tr>\n",
              "  </thead>\n",
              "  <tbody>\n",
              "    <tr>\n",
              "      <th>0</th>\n",
              "      <td>1</td>\n",
              "      <td>also I was the point person on my companys tr...</td>\n",
              "      <td>Chandler</td>\n",
              "      <td>neutral</td>\n",
              "      <td>neutral</td>\n",
              "      <td>0</td>\n",
              "      <td>0</td>\n",
              "      <td>8</td>\n",
              "      <td>21</td>\n",
              "      <td>00:16:16,059</td>\n",
              "      <td>00:16:21,731</td>\n",
              "    </tr>\n",
              "    <tr>\n",
              "      <th>1</th>\n",
              "      <td>2</td>\n",
              "      <td>You mustve had your hands full.</td>\n",
              "      <td>The Interviewer</td>\n",
              "      <td>neutral</td>\n",
              "      <td>neutral</td>\n",
              "      <td>0</td>\n",
              "      <td>1</td>\n",
              "      <td>8</td>\n",
              "      <td>21</td>\n",
              "      <td>00:16:21,940</td>\n",
              "      <td>00:16:23,442</td>\n",
              "    </tr>\n",
              "    <tr>\n",
              "      <th>2</th>\n",
              "      <td>3</td>\n",
              "      <td>That I did. That I did.</td>\n",
              "      <td>Chandler</td>\n",
              "      <td>neutral</td>\n",
              "      <td>neutral</td>\n",
              "      <td>0</td>\n",
              "      <td>2</td>\n",
              "      <td>8</td>\n",
              "      <td>21</td>\n",
              "      <td>00:16:23,442</td>\n",
              "      <td>00:16:26,389</td>\n",
              "    </tr>\n",
              "    <tr>\n",
              "      <th>3</th>\n",
              "      <td>4</td>\n",
              "      <td>So lets talk a little bit about your duties.</td>\n",
              "      <td>The Interviewer</td>\n",
              "      <td>neutral</td>\n",
              "      <td>neutral</td>\n",
              "      <td>0</td>\n",
              "      <td>3</td>\n",
              "      <td>8</td>\n",
              "      <td>21</td>\n",
              "      <td>00:16:26,820</td>\n",
              "      <td>00:16:29,572</td>\n",
              "    </tr>\n",
              "    <tr>\n",
              "      <th>4</th>\n",
              "      <td>5</td>\n",
              "      <td>My duties?  All right.</td>\n",
              "      <td>Chandler</td>\n",
              "      <td>surprise</td>\n",
              "      <td>positive</td>\n",
              "      <td>0</td>\n",
              "      <td>4</td>\n",
              "      <td>8</td>\n",
              "      <td>21</td>\n",
              "      <td>00:16:34,452</td>\n",
              "      <td>00:16:40,917</td>\n",
              "    </tr>\n",
              "  </tbody>\n",
              "</table>\n",
              "</div>\n",
              "      <button class=\"colab-df-convert\" onclick=\"convertToInteractive('df-b6f57448-7a8e-44d9-88f1-8baeda27ca11')\"\n",
              "              title=\"Convert this dataframe to an interactive table.\"\n",
              "              style=\"display:none;\">\n",
              "        \n",
              "  <svg xmlns=\"http://www.w3.org/2000/svg\" height=\"24px\"viewBox=\"0 0 24 24\"\n",
              "       width=\"24px\">\n",
              "    <path d=\"M0 0h24v24H0V0z\" fill=\"none\"/>\n",
              "    <path d=\"M18.56 5.44l.94 2.06.94-2.06 2.06-.94-2.06-.94-.94-2.06-.94 2.06-2.06.94zm-11 1L8.5 8.5l.94-2.06 2.06-.94-2.06-.94L8.5 2.5l-.94 2.06-2.06.94zm10 10l.94 2.06.94-2.06 2.06-.94-2.06-.94-.94-2.06-.94 2.06-2.06.94z\"/><path d=\"M17.41 7.96l-1.37-1.37c-.4-.4-.92-.59-1.43-.59-.52 0-1.04.2-1.43.59L10.3 9.45l-7.72 7.72c-.78.78-.78 2.05 0 2.83L4 21.41c.39.39.9.59 1.41.59.51 0 1.02-.2 1.41-.59l7.78-7.78 2.81-2.81c.8-.78.8-2.07 0-2.86zM5.41 20L4 18.59l7.72-7.72 1.47 1.35L5.41 20z\"/>\n",
              "  </svg>\n",
              "      </button>\n",
              "      \n",
              "  <style>\n",
              "    .colab-df-container {\n",
              "      display:flex;\n",
              "      flex-wrap:wrap;\n",
              "      gap: 12px;\n",
              "    }\n",
              "\n",
              "    .colab-df-convert {\n",
              "      background-color: #E8F0FE;\n",
              "      border: none;\n",
              "      border-radius: 50%;\n",
              "      cursor: pointer;\n",
              "      display: none;\n",
              "      fill: #1967D2;\n",
              "      height: 32px;\n",
              "      padding: 0 0 0 0;\n",
              "      width: 32px;\n",
              "    }\n",
              "\n",
              "    .colab-df-convert:hover {\n",
              "      background-color: #E2EBFA;\n",
              "      box-shadow: 0px 1px 2px rgba(60, 64, 67, 0.3), 0px 1px 3px 1px rgba(60, 64, 67, 0.15);\n",
              "      fill: #174EA6;\n",
              "    }\n",
              "\n",
              "    [theme=dark] .colab-df-convert {\n",
              "      background-color: #3B4455;\n",
              "      fill: #D2E3FC;\n",
              "    }\n",
              "\n",
              "    [theme=dark] .colab-df-convert:hover {\n",
              "      background-color: #434B5C;\n",
              "      box-shadow: 0px 1px 3px 1px rgba(0, 0, 0, 0.15);\n",
              "      filter: drop-shadow(0px 1px 2px rgba(0, 0, 0, 0.3));\n",
              "      fill: #FFFFFF;\n",
              "    }\n",
              "  </style>\n",
              "\n",
              "      <script>\n",
              "        const buttonEl =\n",
              "          document.querySelector('#df-b6f57448-7a8e-44d9-88f1-8baeda27ca11 button.colab-df-convert');\n",
              "        buttonEl.style.display =\n",
              "          google.colab.kernel.accessAllowed ? 'block' : 'none';\n",
              "\n",
              "        async function convertToInteractive(key) {\n",
              "          const element = document.querySelector('#df-b6f57448-7a8e-44d9-88f1-8baeda27ca11');\n",
              "          const dataTable =\n",
              "            await google.colab.kernel.invokeFunction('convertToInteractive',\n",
              "                                                     [key], {});\n",
              "          if (!dataTable) return;\n",
              "\n",
              "          const docLinkHtml = 'Like what you see? Visit the ' +\n",
              "            '<a target=\"_blank\" href=https://colab.research.google.com/notebooks/data_table.ipynb>data table notebook</a>'\n",
              "            + ' to learn more about interactive tables.';\n",
              "          element.innerHTML = '';\n",
              "          dataTable['output_type'] = 'display_data';\n",
              "          await google.colab.output.renderOutput(dataTable, element);\n",
              "          const docLink = document.createElement('div');\n",
              "          docLink.innerHTML = docLinkHtml;\n",
              "          element.appendChild(docLink);\n",
              "        }\n",
              "      </script>\n",
              "    </div>\n",
              "  </div>\n",
              "  "
            ]
          },
          "metadata": {},
          "execution_count": 10
        }
      ]
    },
    {
      "cell_type": "code",
      "metadata": {
        "id": "rKcSVCMIr4g_",
        "colab": {
          "base_uri": "https://localhost:8080/",
          "height": 418
        },
        "outputId": "a71cd538-3d40-435f-bed5-a8c4eb32db6a"
      },
      "source": [
        "#Imbalanced Data\n",
        "ax = sns.countplot(x=train_set['Emotion'], data=train_set)\n",
        "print(train_set['Emotion'].value_counts())"
      ],
      "execution_count": null,
      "outputs": [
        {
          "output_type": "stream",
          "name": "stdout",
          "text": [
            "neutral     4710\n",
            "joy         1743\n",
            "surprise    1205\n",
            "anger       1109\n",
            "sadness      683\n",
            "disgust      271\n",
            "fear         268\n",
            "Name: Emotion, dtype: int64\n"
          ]
        },
        {
          "output_type": "display_data",
          "data": {
            "text/plain": [
              "<Figure size 432x288 with 1 Axes>"
            ],
            "image/png": "[encoded data removed]"
          },
          "metadata": {
            "needs_background": "light"
          }
        }
      ]
    },
    {
      "cell_type": "code",
      "metadata": {
        "id": "_NctoU2quOfz",
        "colab": {
          "base_uri": "https://localhost:8080/",
          "height": 418
        },
        "outputId": "a3414c2e-e6ba-47ba-c8be-88115d9000c9"
      },
      "source": [
        "#Imbalanced Data\n",
        "ax = sns.countplot(x=valid_set['Emotion'], data=valid_set)\n",
        "print(valid_set['Emotion'].value_counts())"
      ],
      "execution_count": null,
      "outputs": [
        {
          "output_type": "stream",
          "name": "stdout",
          "text": [
            "neutral     470\n",
            "joy         163\n",
            "anger       153\n",
            "surprise    150\n",
            "sadness     111\n",
            "fear         40\n",
            "disgust      22\n",
            "Name: Emotion, dtype: int64\n"
          ]
        },
        {
          "output_type": "display_data",
          "data": {
            "text/plain": [
              "<Figure size 432x288 with 1 Axes>"
            ],
            "image/png": "[encoded data removed]"
          },
          "metadata": {
            "needs_background": "light"
          }
        }
      ]
    },
    {
      "cell_type": "code",
      "metadata": {
        "id": "Y5lbjooKuOjM",
        "colab": {
          "base_uri": "https://localhost:8080/",
          "height": 418
        },
        "outputId": "e30bfacd-2f5b-4792-c6a7-5c4b8363d6f6"
      },
      "source": [
        "#Imbalanced Data\n",
        "ax = sns.countplot(x=test_set['Emotion'], data=test_set)\n",
        "print(test_set['Emotion'].value_counts())"
      ],
      "execution_count": null,
      "outputs": [
        {
          "output_type": "stream",
          "name": "stdout",
          "text": [
            "neutral     1256\n",
            "joy          402\n",
            "anger        345\n",
            "surprise     281\n",
            "sadness      208\n",
            "disgust       68\n",
            "fear          50\n",
            "Name: Emotion, dtype: int64\n"
          ]
        },
        {
          "output_type": "display_data",
          "data": {
            "text/plain": [
              "<Figure size 432x288 with 1 Axes>"
            ],
            "image/png": "[encoded data removed]"
          },
          "metadata": {
            "needs_background": "light"
          }
        }
      ]
    },
    {
      "cell_type": "markdown",
      "metadata": {
        "id": "SFU-IoS0uYgX"
      },
      "source": [
        "### Observation : \n",
        "1. Neutral emotion is dominating in CV ,Test set and  Train set\n"
      ]
    },
    {
      "cell_type": "code",
      "metadata": {
        "id": "w9kL-2SZsMLn",
        "colab": {
          "base_uri": "https://localhost:8080/"
        },
        "outputId": "8545a9f2-ef71-4c5b-a939-5544552c4353"
      },
      "source": [
        "train_set.info() #No nulls"
      ],
      "execution_count": null,
      "outputs": [
        {
          "output_type": "stream",
          "name": "stdout",
          "text": [
            "<class 'pandas.core.frame.DataFrame'>\n",
            "RangeIndex: 9989 entries, 0 to 9988\n",
            "Data columns (total 11 columns):\n",
            " #   Column        Non-Null Count  Dtype \n",
            "---  ------        --------------  ----- \n",
            " 0   Sr No.        9989 non-null   int64 \n",
            " 1   Utterance     9989 non-null   object\n",
            " 2   Speaker       9989 non-null   object\n",
            " 3   Emotion       9989 non-null   object\n",
            " 4   Sentiment     9989 non-null   object\n",
            " 5   Dialogue_ID   9989 non-null   int64 \n",
            " 6   Utterance_ID  9989 non-null   int64 \n",
            " 7   Season        9989 non-null   int64 \n",
            " 8   Episode       9989 non-null   int64 \n",
            " 9   StartTime     9989 non-null   object\n",
            " 10  EndTime       9989 non-null   object\n",
            "dtypes: int64(5), object(6)\n",
            "memory usage: 858.6+ KB\n"
          ]
        }
      ]
    },
    {
      "cell_type": "code",
      "metadata": {
        "id": "O2K9f1-Ls6HL",
        "colab": {
          "base_uri": "https://localhost:8080/"
        },
        "outputId": "9ce5cbb2-0b33-41a0-e97e-c315ea731289"
      },
      "source": [
        "valid_set.info()  #No nulls"
      ],
      "execution_count": null,
      "outputs": [
        {
          "output_type": "stream",
          "name": "stdout",
          "text": [
            "<class 'pandas.core.frame.DataFrame'>\n",
            "RangeIndex: 1109 entries, 0 to 1108\n",
            "Data columns (total 11 columns):\n",
            " #   Column        Non-Null Count  Dtype \n",
            "---  ------        --------------  ----- \n",
            " 0   Sr No.        1109 non-null   int64 \n",
            " 1   Utterance     1109 non-null   object\n",
            " 2   Speaker       1109 non-null   object\n",
            " 3   Emotion       1109 non-null   object\n",
            " 4   Sentiment     1109 non-null   object\n",
            " 5   Dialogue_ID   1109 non-null   int64 \n",
            " 6   Utterance_ID  1109 non-null   int64 \n",
            " 7   Season        1109 non-null   int64 \n",
            " 8   Episode       1109 non-null   int64 \n",
            " 9   StartTime     1109 non-null   object\n",
            " 10  EndTime       1109 non-null   object\n",
            "dtypes: int64(5), object(6)\n",
            "memory usage: 95.4+ KB\n"
          ]
        }
      ]
    },
    {
      "cell_type": "code",
      "metadata": {
        "id": "q0Zxf7h_s-md",
        "colab": {
          "base_uri": "https://localhost:8080/"
        },
        "outputId": "ba99eccb-94b8-43bf-fe90-96c6be017c44"
      },
      "source": [
        "test_set.info()  #No nulls"
      ],
      "execution_count": null,
      "outputs": [
        {
          "output_type": "stream",
          "name": "stdout",
          "text": [
            "<class 'pandas.core.frame.DataFrame'>\n",
            "RangeIndex: 2610 entries, 0 to 2609\n",
            "Data columns (total 11 columns):\n",
            " #   Column        Non-Null Count  Dtype \n",
            "---  ------        --------------  ----- \n",
            " 0   Sr No.        2610 non-null   int64 \n",
            " 1   Utterance     2610 non-null   object\n",
            " 2   Speaker       2610 non-null   object\n",
            " 3   Emotion       2610 non-null   object\n",
            " 4   Sentiment     2610 non-null   object\n",
            " 5   Dialogue_ID   2610 non-null   int64 \n",
            " 6   Utterance_ID  2610 non-null   int64 \n",
            " 7   Season        2610 non-null   int64 \n",
            " 8   Episode       2610 non-null   int64 \n",
            " 9   StartTime     2610 non-null   object\n",
            " 10  EndTime       2610 non-null   object\n",
            "dtypes: int64(5), object(6)\n",
            "memory usage: 224.4+ KB\n"
          ]
        }
      ]
    },
    {
      "cell_type": "markdown",
      "metadata": {
        "id": "um7uQHVnvVg1"
      },
      "source": [
        "## Splits"
      ]
    },
    {
      "cell_type": "code",
      "metadata": {
        "id": "69sLvs-lvDjb"
      },
      "source": [
        "X_train , y_train = train_set[['Utterance']] , train_set[['Emotion']]\n",
        "X_valid , y_valid = valid_set[['Utterance']] , valid_set[['Emotion']]\n",
        "X_test , y_test = test_set[['Utterance']] , test_set[['Emotion']]"
      ],
      "execution_count": null,
      "outputs": []
    },
    {
      "cell_type": "markdown",
      "metadata": {
        "id": "I-3Gv2UTxdk4"
      },
      "source": [
        "## Using LabelEncoder to vectorise labels"
      ]
    },
    {
      "cell_type": "code",
      "metadata": {
        "id": "RRPTJO20vzar"
      },
      "source": [
        "lbl_enc = preprocessing.LabelEncoder()\n",
        "y_train_enc = lbl_enc.fit_transform(y_train.Emotion.values)\n",
        "y_valid_enc = lbl_enc.transform(y_valid.Emotion.values)\n",
        "y_test_enc = lbl_enc.transform(y_test.Emotion.values)"
      ],
      "execution_count": null,
      "outputs": []
    },
    {
      "cell_type": "code",
      "metadata": {
        "id": "toSv1Bfz-PS-",
        "colab": {
          "base_uri": "https://localhost:8080/"
        },
        "outputId": "5f1d8c70-d1bf-4032-fae7-3789585338f3"
      },
      "source": [
        "y_train.Emotion.values[1:200]"
      ],
      "execution_count": null,
      "outputs": [
        {
          "output_type": "execute_result",
          "data": {
            "text/plain": [
              "array(['neutral', 'neutral', 'neutral', 'surprise', 'neutral', 'neutral',\n",
              "       'neutral', 'neutral', 'neutral', 'fear', 'neutral', 'surprise',\n",
              "       'neutral', 'surprise', 'sadness', 'surprise', 'fear', 'neutral',\n",
              "       'neutral', 'neutral', 'neutral', 'neutral', 'joy', 'sadness',\n",
              "       'surprise', 'neutral', 'disgust', 'sadness', 'neutral', 'neutral',\n",
              "       'joy', 'neutral', 'joy', 'surprise', 'surprise', 'surprise',\n",
              "       'neutral', 'neutral', 'neutral', 'surprise', 'sadness', 'neutral',\n",
              "       'surprise', 'joy', 'surprise', 'neutral', 'neutral', 'neutral',\n",
              "       'neutral', 'neutral', 'joy', 'joy', 'joy', 'sadness', 'neutral',\n",
              "       'neutral', 'neutral', 'neutral', 'neutral', 'neutral', 'surprise',\n",
              "       'joy', 'surprise', 'joy', 'neutral', 'neutral', 'anger', 'joy',\n",
              "       'neutral', 'surprise', 'anger', 'anger', 'anger', 'neutral',\n",
              "       'neutral', 'sadness', 'sadness', 'sadness', 'surprise', 'anger',\n",
              "       'anger', 'anger', 'anger', 'neutral', 'anger', 'neutral',\n",
              "       'neutral', 'neutral', 'neutral', 'joy', 'neutral', 'joy',\n",
              "       'neutral', 'neutral', 'neutral', 'joy', 'neutral', 'neutral',\n",
              "       'neutral', 'neutral', 'neutral', 'joy', 'neutral', 'neutral',\n",
              "       'disgust', 'anger', 'anger', 'anger', 'anger', 'anger', 'anger',\n",
              "       'neutral', 'neutral', 'anger', 'neutral', 'joy', 'neutral',\n",
              "       'neutral', 'joy', 'joy', 'joy', 'joy', 'neutral', 'joy', 'disgust',\n",
              "       'surprise', 'disgust', 'neutral', 'fear', 'neutral', 'surprise',\n",
              "       'fear', 'disgust', 'anger', 'joy', 'neutral', 'surprise',\n",
              "       'neutral', 'neutral', 'neutral', 'neutral', 'surprise', 'neutral',\n",
              "       'neutral', 'anger', 'neutral', 'neutral', 'sadness', 'surprise',\n",
              "       'sadness', 'anger', 'sadness', 'neutral', 'sadness', 'neutral',\n",
              "       'neutral', 'neutral', 'neutral', 'neutral', 'joy', 'anger',\n",
              "       'anger', 'anger', 'neutral', 'anger', 'joy', 'joy', 'joy', 'joy',\n",
              "       'disgust', 'surprise', 'neutral', 'neutral', 'anger', 'joy',\n",
              "       'neutral', 'neutral', 'fear', 'neutral', 'fear', 'joy', 'joy',\n",
              "       'joy', 'joy', 'neutral', 'neutral', 'neutral', 'joy', 'neutral',\n",
              "       'joy', 'fear', 'neutral', 'sadness', 'surprise', 'fear', 'neutral',\n",
              "       'neutral', 'neutral', 'joy'], dtype=object)"
            ]
          },
          "metadata": {},
          "execution_count": 40
        }
      ]
    },
    {
      "cell_type": "code",
      "metadata": {
        "id": "LMzIgekV-IKe",
        "colab": {
          "base_uri": "https://localhost:8080/"
        },
        "outputId": "281c91b5-50ca-4211-9a5b-e822f590bbf8"
      },
      "source": [
        "y_train_enc[1:200]"
      ],
      "execution_count": null,
      "outputs": [
        {
          "output_type": "execute_result",
          "data": {
            "text/plain": [
              "array([4, 4, 4, 6, 4, 4, 4, 4, 4, 2, 4, 6, 4, 6, 5, 6, 2, 4, 4, 4, 4, 4,\n",
              "       3, 5, 6, 4, 1, 5, 4, 4, 3, 4, 3, 6, 6, 6, 4, 4, 4, 6, 5, 4, 6, 3,\n",
              "       6, 4, 4, 4, 4, 4, 3, 3, 3, 5, 4, 4, 4, 4, 4, 4, 6, 3, 6, 3, 4, 4,\n",
              "       0, 3, 4, 6, 0, 0, 0, 4, 4, 5, 5, 5, 6, 0, 0, 0, 0, 4, 0, 4, 4, 4,\n",
              "       4, 3, 4, 3, 4, 4, 4, 3, 4, 4, 4, 4, 4, 3, 4, 4, 1, 0, 0, 0, 0, 0,\n",
              "       0, 4, 4, 0, 4, 3, 4, 4, 3, 3, 3, 3, 4, 3, 1, 6, 1, 4, 2, 4, 6, 2,\n",
              "       1, 0, 3, 4, 6, 4, 4, 4, 4, 6, 4, 4, 0, 4, 4, 5, 6, 5, 0, 5, 4, 5,\n",
              "       4, 4, 4, 4, 4, 3, 0, 0, 0, 4, 0, 3, 3, 3, 3, 1, 6, 4, 4, 0, 3, 4,\n",
              "       4, 2, 4, 2, 3, 3, 3, 3, 4, 4, 4, 3, 4, 3, 2, 4, 5, 6, 2, 4, 4, 4,\n",
              "       3])"
            ]
          },
          "metadata": {},
          "execution_count": 41
        }
      ]
    },
    {
      "cell_type": "markdown",
      "metadata": {
        "id": "6YuZ1ZcEzaIT"
      },
      "source": [
        "## Data Preprocesing\n",
        "Here, we find the word stem of each word in an occurence and concatenate them to find new corpus. This is done for all test, validation and training dataset.\n"
      ]
    },
    {
      "cell_type": "code",
      "source": [
        "from nltk.stem.porter import PorterStemmer\n",
        "stemmer = PorterStemmer()"
      ],
      "metadata": {
        "id": "KNdbAXWnlqF0"
      },
      "execution_count": null,
      "outputs": []
    },
    {
      "cell_type": "code",
      "metadata": {
        "id": "bVppv_qhxQhF"
      },
      "source": [
        "import re\n",
        "\n",
        "### Dataset Preprocessing training set\n",
        "\n",
        "train_corpus = []\n",
        "for i in range(0, len(X_train)):\n",
        "    review = re.sub('[^a-zA-Z]', ' ', X_train['Utterance'][i])\n",
        "    review = review.lower()\n",
        "    review = review.split()\n",
        "    \n",
        "    review = [stemmer.stem(word) for word in review if not word in stopwords.words('english')]\n",
        "    review = ' '.join(review)\n",
        "    train_corpus.append(review)"
      ],
      "execution_count": null,
      "outputs": []
    },
    {
      "cell_type": "code",
      "metadata": {
        "id": "s8bW0T7GxVlv"
      },
      "source": [
        "import re\n",
        "\n",
        "### Dataset Preprocessing cv set\n",
        "valid_corpus = []\n",
        "for i in range(0, len(X_valid)):\n",
        "    review = re.sub('[^a-zA-Z]', ' ', X_valid['Utterance'][i])\n",
        "    review = review.lower()\n",
        "    review = review.split()\n",
        "    \n",
        "    review = [stemmer.stem(word) for word in review if not word in stopwords.words('english')]\n",
        "    review = ' '.join(review)\n",
        "    valid_corpus.append(review)"
      ],
      "execution_count": null,
      "outputs": []
    },
    {
      "cell_type": "code",
      "metadata": {
        "id": "mr3BDUG6yL8T"
      },
      "source": [
        "import re\n",
        "\n",
        "### Dataset Preprocessing test set\n",
        "test_corpus = []\n",
        "for i in range(0, len(X_test)):\n",
        "    review = re.sub('[^a-zA-Z]', ' ', X_test['Utterance'][i])\n",
        "    review = review.lower()\n",
        "    review = review.split()\n",
        "    \n",
        "    review = [stemmer.stem(word) for word in review if not word in stopwords.words('english')]\n",
        "    review = ' '.join(review)\n",
        "    test_corpus.append(review)"
      ],
      "execution_count": null,
      "outputs": []
    },
    {
      "cell_type": "code",
      "metadata": {
        "id": "uqZMbbdsy0Ay",
        "colab": {
          "base_uri": "https://localhost:8080/"
        },
        "outputId": "819a1b9e-8bc3-4d94-eb7b-5b87733d36e6"
      },
      "source": [
        "print(\"Before Cleaning Data\")\n",
        "print(X_train['Utterance'] [0])\n",
        "print(\"After Cleaning Data\")\n",
        "print(train_corpus[0])\n"
      ],
      "execution_count": null,
      "outputs": [
        {
          "output_type": "stream",
          "name": "stdout",
          "text": [
            "Before Cleaning Data\n",
            "also I was the point person on my companys transition from the KL-5 to GR-6 system.\n",
            "After Cleaning Data\n",
            "also point person compani transit kl gr system\n"
          ]
        },
        {
          "output_type": "stream",
          "name": "stderr",
          "text": [
            "/usr/local/lib/python3.7/dist-packages/ipykernel_launcher.py:5: SettingWithCopyWarning: \n",
            "A value is trying to be set on a copy of a slice from a DataFrame.\n",
            "Try using .loc[row_indexer,col_indexer] = value instead\n",
            "\n",
            "See the caveats in the documentation: https://pandas.pydata.org/pandas-docs/stable/user_guide/indexing.html#returning-a-view-versus-a-copy\n",
            "  \"\"\"\n",
            "/usr/local/lib/python3.7/dist-packages/pandas/core/frame.py:4913: SettingWithCopyWarning: \n",
            "A value is trying to be set on a copy of a slice from a DataFrame\n",
            "\n",
            "See the caveats in the documentation: https://pandas.pydata.org/pandas-docs/stable/user_guide/indexing.html#returning-a-view-versus-a-copy\n",
            "  errors=errors,\n"
          ]
        }
      ]
    },
    {
      "cell_type": "code",
      "source": [
        "X_train['clean_utterance'] = train_corpus\n",
        "X_train.drop('Utterance',axis=1,inplace=True)\n"
      ],
      "metadata": {
        "id": "umotZuFyrkCx"
      },
      "execution_count": null,
      "outputs": []
    },
    {
      "cell_type": "code",
      "metadata": {
        "id": "lDDuaeLmzJ3L",
        "colab": {
          "base_uri": "https://localhost:8080/"
        },
        "outputId": "427372cb-7a32-46aa-c8d8-8470f3a7b68d"
      },
      "source": [
        "X_valid['clean_utterance'] = valid_corpus\n",
        "X_valid.drop('Utterance',axis=1,inplace=True)"
      ],
      "execution_count": null,
      "outputs": [
        {
          "output_type": "stream",
          "name": "stderr",
          "text": [
            "/usr/local/lib/python3.7/dist-packages/ipykernel_launcher.py:1: SettingWithCopyWarning: \n",
            "A value is trying to be set on a copy of a slice from a DataFrame.\n",
            "Try using .loc[row_indexer,col_indexer] = value instead\n",
            "\n",
            "See the caveats in the documentation: https://pandas.pydata.org/pandas-docs/stable/user_guide/indexing.html#returning-a-view-versus-a-copy\n",
            "  \"\"\"Entry point for launching an IPython kernel.\n",
            "/usr/local/lib/python3.7/dist-packages/pandas/core/frame.py:4913: SettingWithCopyWarning: \n",
            "A value is trying to be set on a copy of a slice from a DataFrame\n",
            "\n",
            "See the caveats in the documentation: https://pandas.pydata.org/pandas-docs/stable/user_guide/indexing.html#returning-a-view-versus-a-copy\n",
            "  errors=errors,\n"
          ]
        }
      ]
    },
    {
      "cell_type": "code",
      "metadata": {
        "id": "jEmYnrqmzPih",
        "colab": {
          "base_uri": "https://localhost:8080/"
        },
        "outputId": "b3051884-b007-428e-f535-da5d3307818e"
      },
      "source": [
        "X_test.loc[:,'clean_utterance'] = test_corpus\n",
        "X_test.drop('Utterance',axis=1,inplace=True)"
      ],
      "execution_count": null,
      "outputs": [
        {
          "output_type": "stream",
          "name": "stderr",
          "text": [
            "/usr/local/lib/python3.7/dist-packages/pandas/core/indexing.py:1667: SettingWithCopyWarning: \n",
            "A value is trying to be set on a copy of a slice from a DataFrame.\n",
            "Try using .loc[row_indexer,col_indexer] = value instead\n",
            "\n",
            "See the caveats in the documentation: https://pandas.pydata.org/pandas-docs/stable/user_guide/indexing.html#returning-a-view-versus-a-copy\n",
            "  self.obj[key] = value\n",
            "/usr/local/lib/python3.7/dist-packages/pandas/core/frame.py:4913: SettingWithCopyWarning: \n",
            "A value is trying to be set on a copy of a slice from a DataFrame\n",
            "\n",
            "See the caveats in the documentation: https://pandas.pydata.org/pandas-docs/stable/user_guide/indexing.html#returning-a-view-versus-a-copy\n",
            "  errors=errors,\n"
          ]
        }
      ]
    },
    {
      "cell_type": "markdown",
      "source": [
        "# Vectorization of text\n",
        "Here, we vectorize the text. This is required so that data can be used to train."
      ],
      "metadata": {
        "id": "laZ8B5jcsCdG"
      }
    },
    {
      "cell_type": "markdown",
      "source": [
        "**TF-IDF**  : This is one of methods used to transform text to vector. It uses 2 concepts Term Frequency(TF) which number of occurences of specific term in document. Inverse document frequency (IDF) is the weight of a term, it aims to reduce the weight of a term if the term’s occurrences are scattered throughout all the documents."
      ],
      "metadata": {
        "id": "16aEghXStEqO"
      }
    },
    {
      "cell_type": "code",
      "source": [
        "from sklearn.feature_extraction.text import TfidfVectorizer,CountVectorizer\n",
        "tf_idf = TfidfVectorizer(min_df=3,  max_features=None, \n",
        "            strip_accents='unicode', analyzer='word',token_pattern=r'\\w{1,}',\n",
        "            ngram_range=(1, 3), use_idf=1,smooth_idf=1,sublinear_tf=1,\n",
        "            stop_words = 'english')\n",
        "\n",
        "# Fitting TF-IDF to both training and test sets (semi-supervised learning)\n",
        "tf_idf.fit(list(X_train['clean_utterance']) + list(X_valid['clean_utterance']) + list(X_test['clean_utterance']))\n",
        "X_train_tf_idf =  tf_idf.transform(X_train['clean_utterance']) \n",
        "X_valid_tf_idf = tf_idf.transform(X_valid['clean_utterance'])\n",
        "X_test_tf_idf = tf_idf.transform(X_test['clean_utterance'])"
      ],
      "metadata": {
        "id": "KNVp2ijbsKhj"
      },
      "execution_count": null,
      "outputs": []
    },
    {
      "cell_type": "markdown",
      "source": [
        "**BOW** : Bag-of-words"
      ],
      "metadata": {
        "id": "WcdeNW-aw6qO"
      }
    },
    {
      "cell_type": "code",
      "source": [
        "from sklearn.feature_extraction.text import CountVectorizer\n",
        "bow = CountVectorizer(analyzer='word',token_pattern=r'\\w{1,}',\n",
        "            ngram_range=(1, 3), stop_words = 'english')\n",
        "\n",
        "# Fitting Count Vectorizer to both training and test sets (semi-supervised learning)\n",
        "bow.fit(list(X_train['clean_utterance']) + list(X_valid['clean_utterance']) + list(X_test['clean_utterance']))\n",
        "X_train_bow =  bow.transform(X_train['clean_utterance']) \n",
        "X_valid_bow = bow.transform(X_valid['clean_utterance'])\n",
        "X_test_bow = bow.transform(X_test['clean_utterance'])"
      ],
      "metadata": {
        "id": "3FSckWFpwzXA"
      },
      "execution_count": null,
      "outputs": []
    },
    {
      "cell_type": "code",
      "source": [
        ""
      ],
      "metadata": {
        "id": "rM1iBxhrxpNa"
      },
      "execution_count": null,
      "outputs": []
    }
  ]
}